{
 "cells": [
  {
   "cell_type": "code",
   "execution_count": 1,
   "id": "8b2e302d-e224-48a9-bc88-118cf8a940cd",
   "metadata": {},
   "outputs": [],
   "source": [
    "import numpy as np"
   ]
  },
  {
   "cell_type": "code",
   "execution_count": 2,
   "id": "0aa09d2d-78b4-481a-8374-dc1b5a9237cc",
   "metadata": {},
   "outputs": [],
   "source": [
    "a = np.array([1,2,3,4])"
   ]
  },
  {
   "cell_type": "code",
   "execution_count": 3,
   "id": "fb443033-6598-4dd2-9f47-77249557fc0b",
   "metadata": {},
   "outputs": [
    {
     "name": "stdout",
     "output_type": "stream",
     "text": [
      "[1 2 3 4]\n"
     ]
    }
   ],
   "source": [
    "print(a)"
   ]
  },
  {
   "cell_type": "code",
   "execution_count": 4,
   "id": "a8eff2e1-4d48-4f60-9813-5393521a9956",
   "metadata": {},
   "outputs": [],
   "source": [
    "b =np.array([[5.0,6.0,7.0,8.0],[1.0,2.0,3.0,4.0]])"
   ]
  },
  {
   "cell_type": "code",
   "execution_count": 5,
   "id": "400785e4-fd98-4e88-91e5-933580281665",
   "metadata": {},
   "outputs": [
    {
     "name": "stdout",
     "output_type": "stream",
     "text": [
      "[[5. 6. 7. 8.]\n",
      " [1. 2. 3. 4.]]\n"
     ]
    }
   ],
   "source": [
    "print(b)"
   ]
  },
  {
   "cell_type": "markdown",
   "id": "4f913a54-d829-4154-a0d1-fde36c84a500",
   "metadata": {},
   "source": [
    "#### Muestra las dimensiones que tienen las matrices a y b"
   ]
  },
  {
   "cell_type": "code",
   "execution_count": 6,
   "id": "1f2d14cf-94a0-406d-9111-94ebc24a0417",
   "metadata": {},
   "outputs": [
    {
     "name": "stdout",
     "output_type": "stream",
     "text": [
      "Número de Dimensiones:  1\n"
     ]
    }
   ],
   "source": [
    "print(\"Número de Dimensiones: \", a.ndim)"
   ]
  },
  {
   "cell_type": "code",
   "execution_count": 7,
   "id": "5766e228-adc6-46e9-a9dd-b3db4e85d5f9",
   "metadata": {},
   "outputs": [
    {
     "name": "stdout",
     "output_type": "stream",
     "text": [
      "Número de Dimensiones:  2\n"
     ]
    }
   ],
   "source": [
    "print(\"Número de Dimensiones: \", b.ndim)"
   ]
  },
  {
   "cell_type": "markdown",
   "id": "5722b534-6da0-4e34-b10a-fef74b576999",
   "metadata": {},
   "source": [
    "#### Muestra el datatype y el valor en bytes de los items en las matrices a y b"
   ]
  },
  {
   "cell_type": "code",
   "execution_count": 8,
   "id": "35386781-d454-4179-be14-7f98ea816eca",
   "metadata": {},
   "outputs": [
    {
     "name": "stdout",
     "output_type": "stream",
     "text": [
      "El tipo es dato es int64 para la matríz a con un tamaño de 8 bytes\n"
     ]
    }
   ],
   "source": [
    "print(\"El tipo es dato es\",a.dtype, \"para la matríz a con un tamaño de\", a.itemsize, \"bytes\")"
   ]
  },
  {
   "cell_type": "code",
   "execution_count": 9,
   "id": "98eee69e-f86f-4cdf-8d9a-26308e29d3fc",
   "metadata": {},
   "outputs": [
    {
     "name": "stdout",
     "output_type": "stream",
     "text": [
      "El tipo es dato es float64 para la matríz b con un tamaño de 8 bytes\n"
     ]
    }
   ],
   "source": [
    "print(\"El tipo es dato es\",b.dtype, \"para la matríz b con un tamaño de\", b.itemsize, \"bytes\")"
   ]
  },
  {
   "cell_type": "markdown",
   "id": "844ec221-d533-4731-a4c0-0aadd1d89f3c",
   "metadata": {},
   "source": [
    "#### Muestra las formas para las matrices a y b"
   ]
  },
  {
   "cell_type": "code",
   "execution_count": 10,
   "id": "01ead22a-8a8f-4446-aba7-df0547c48e04",
   "metadata": {},
   "outputs": [
    {
     "data": {
      "text/plain": [
       "(4,)"
      ]
     },
     "execution_count": 10,
     "metadata": {},
     "output_type": "execute_result"
    }
   ],
   "source": [
    "a.shape"
   ]
  },
  {
   "cell_type": "code",
   "execution_count": 11,
   "id": "cda92fb6-045e-4ff6-ae7c-46cf6b94c8d0",
   "metadata": {},
   "outputs": [
    {
     "data": {
      "text/plain": [
       "(2, 4)"
      ]
     },
     "execution_count": 11,
     "metadata": {},
     "output_type": "execute_result"
    }
   ],
   "source": [
    "b.shape"
   ]
  },
  {
   "cell_type": "markdown",
   "id": "84daf7c1-4656-4d16-bb60-db4b20f53f97",
   "metadata": {},
   "source": [
    "##### Asigna un datatype fijo"
   ]
  },
  {
   "cell_type": "code",
   "execution_count": 12,
   "id": "dc893892-7c2a-4111-8b3c-7729de431232",
   "metadata": {},
   "outputs": [],
   "source": [
    "c = np.array([1,2,3,4,5], dtype='int32')"
   ]
  },
  {
   "cell_type": "code",
   "execution_count": 13,
   "id": "2d80db2d-b4c4-463f-ac02-c9b5f8462728",
   "metadata": {},
   "outputs": [
    {
     "data": {
      "text/plain": [
       "dtype('int32')"
      ]
     },
     "execution_count": 13,
     "metadata": {},
     "output_type": "execute_result"
    }
   ],
   "source": [
    "c.dtype"
   ]
  },
  {
   "cell_type": "markdown",
   "id": "5b47a5e8-3bc4-4827-bfde-e040f9700876",
   "metadata": {},
   "source": [
    "#### Obtiene el valor total de un array"
   ]
  },
  {
   "cell_type": "code",
   "execution_count": 14,
   "id": "c19e5173-6c53-463f-9b90-5ff87edef5b7",
   "metadata": {},
   "outputs": [
    {
     "name": "stdout",
     "output_type": "stream",
     "text": [
      "Tamaño total del array c es: 20 bytes\n"
     ]
    }
   ],
   "source": [
    "print(\"Tamaño total del array c es:\", c.size * c.itemsize, \"bytes\")"
   ]
  },
  {
   "cell_type": "code",
   "execution_count": 15,
   "id": "1ae2c426-ee53-4165-a9da-1d24ead69edc",
   "metadata": {},
   "outputs": [
    {
     "data": {
      "text/plain": [
       "20"
      ]
     },
     "execution_count": 15,
     "metadata": {},
     "output_type": "execute_result"
    }
   ],
   "source": [
    "c.nbytes"
   ]
  },
  {
   "cell_type": "markdown",
   "id": "0277873e-7b02-4d4b-b3a2-39e9e8f528a1",
   "metadata": {},
   "source": [
    "#### Obtiene un elemento de un array [f, c]"
   ]
  },
  {
   "cell_type": "code",
   "execution_count": 16,
   "id": "4699dee4-72f9-4fb6-9307-a171dcdae197",
   "metadata": {},
   "outputs": [
    {
     "name": "stdout",
     "output_type": "stream",
     "text": [
      "[[ 1  2  3  4  5  6  7]\n",
      " [ 8  9 10 11 12 13 14]]\n"
     ]
    }
   ],
   "source": [
    "d = np.array([[1,2,3,4,5,6,7],[8,9,10,11,12,13,14]])\n",
    "print(d)"
   ]
  },
  {
   "cell_type": "code",
   "execution_count": 17,
   "id": "407d5884-47d4-4b79-b1ca-404c5b09e5aa",
   "metadata": {},
   "outputs": [
    {
     "data": {
      "text/plain": [
       "(2, 7)"
      ]
     },
     "execution_count": 17,
     "metadata": {},
     "output_type": "execute_result"
    }
   ],
   "source": [
    "d.shape"
   ]
  },
  {
   "cell_type": "code",
   "execution_count": 18,
   "id": "eb9721ab-dd3c-4f32-8af9-d2659cd09e34",
   "metadata": {},
   "outputs": [
    {
     "data": {
      "text/plain": [
       "2"
      ]
     },
     "execution_count": 18,
     "metadata": {},
     "output_type": "execute_result"
    }
   ],
   "source": [
    "d[0, 1]   # Extrae el número de la fila cero columna uno"
   ]
  },
  {
   "cell_type": "code",
   "execution_count": 19,
   "id": "9d94873e-2e04-4298-a984-2028d1302807",
   "metadata": {},
   "outputs": [
    {
     "data": {
      "text/plain": [
       "13"
      ]
     },
     "execution_count": 19,
     "metadata": {},
     "output_type": "execute_result"
    }
   ],
   "source": [
    "d[1,5]    # Extrae el número de la fila uno columna cinco"
   ]
  },
  {
   "cell_type": "code",
   "execution_count": 20,
   "id": "a9fb81c0-54c0-41cb-b28d-5cc36382507e",
   "metadata": {},
   "outputs": [
    {
     "data": {
      "text/plain": [
       "5"
      ]
     },
     "execution_count": 20,
     "metadata": {},
     "output_type": "execute_result"
    }
   ],
   "source": [
    "d[0,-3]    # Extrae el número de la fila cero columna -3 (se empiza del final con -1)"
   ]
  },
  {
   "cell_type": "markdown",
   "id": "e79c5e36-5363-4cdb-b9df-2898d828790a",
   "metadata": {},
   "source": [
    "#### Obtiener una fila o columna en un array [f, c]"
   ]
  },
  {
   "cell_type": "code",
   "execution_count": 21,
   "id": "70a17ae9-0625-4f30-bd19-8c7ae3999489",
   "metadata": {},
   "outputs": [
    {
     "data": {
      "text/plain": [
       "array([1, 2, 3, 4, 5, 6, 7])"
      ]
     },
     "execution_count": 21,
     "metadata": {},
     "output_type": "execute_result"
    }
   ],
   "source": [
    "d[0, :]   # Toma todos los elementos de la fila cero"
   ]
  },
  {
   "cell_type": "code",
   "execution_count": 22,
   "id": "c97cb016-3c06-44b9-9392-bccddbc58def",
   "metadata": {},
   "outputs": [
    {
     "data": {
      "text/plain": [
       "array([ 5, 12])"
      ]
     },
     "execution_count": 22,
     "metadata": {},
     "output_type": "execute_result"
    }
   ],
   "source": [
    "d[:, 4]   # Toma todos los elementos de la columna 4"
   ]
  },
  {
   "cell_type": "code",
   "execution_count": 23,
   "id": "756ad65e-e8af-49bd-ade8-71414c37866b",
   "metadata": {},
   "outputs": [
    {
     "data": {
      "text/plain": [
       "array([2, 4, 6])"
      ]
     },
     "execution_count": 23,
     "metadata": {},
     "output_type": "execute_result"
    }
   ],
   "source": [
    "d[0, 1:6:2]   # Toma los elemento de la fila cero desde la columna 1 a la 6, de 2 en 2"
   ]
  },
  {
   "cell_type": "code",
   "execution_count": 24,
   "id": "b844e467-23d7-43aa-b72f-5639f9b898b1",
   "metadata": {},
   "outputs": [
    {
     "data": {
      "text/plain": [
       "array([2, 4, 6])"
      ]
     },
     "execution_count": 24,
     "metadata": {},
     "output_type": "execute_result"
    }
   ],
   "source": [
    "d[0, 1:-1:2]"
   ]
  },
  {
   "cell_type": "code",
   "execution_count": 25,
   "id": "946a3a24-aba2-4523-9d02-685e4de8e1af",
   "metadata": {},
   "outputs": [
    {
     "data": {
      "text/plain": [
       "array([1, 2, 3, 4, 5])"
      ]
     },
     "execution_count": 25,
     "metadata": {},
     "output_type": "execute_result"
    }
   ],
   "source": [
    "d[0, 0:-2:1]"
   ]
  },
  {
   "cell_type": "markdown",
   "id": "3f0f0e7c-5c17-41ca-aea2-ffd253e2aefd",
   "metadata": {},
   "source": [
    "#### Remplaza elementos de un array [f, c]"
   ]
  },
  {
   "cell_type": "code",
   "execution_count": 26,
   "id": "68d9f8e8-5d57-475b-bea6-fcea4624d4f4",
   "metadata": {},
   "outputs": [
    {
     "name": "stdout",
     "output_type": "stream",
     "text": [
      "[[ 1  2  3 22  5  6  7]\n",
      " [ 8  9 10 11 12 13 14]]\n"
     ]
    }
   ],
   "source": [
    "d[0,3] = 22\n",
    "print(d)"
   ]
  },
  {
   "cell_type": "code",
   "execution_count": 27,
   "id": "9222f865-868d-47dc-83bb-63fab2b92abb",
   "metadata": {},
   "outputs": [
    {
     "name": "stdout",
     "output_type": "stream",
     "text": [
      "[[ 1  1  1  1  1  1  1]\n",
      " [44 44 44 44 44 44 44]]\n"
     ]
    }
   ],
   "source": [
    "d[0, :] = 1\n",
    "d[1, :] = 44\n",
    "print(d)"
   ]
  },
  {
   "cell_type": "code",
   "execution_count": 28,
   "id": "7be3cdb8-b6a4-4cc6-8a74-e780bf5c6cab",
   "metadata": {},
   "outputs": [
    {
     "name": "stdout",
     "output_type": "stream",
     "text": [
      "[[ 1  1  1  0  1  1  1]\n",
      " [44 44 44  0 44 44 44]]\n"
     ]
    }
   ],
   "source": [
    "d[:, 3] = 0\n",
    "print(d)"
   ]
  },
  {
   "cell_type": "code",
   "execution_count": 29,
   "id": "0c70cfff-b7b3-4066-bb63-725c80d2b46f",
   "metadata": {},
   "outputs": [
    {
     "name": "stdout",
     "output_type": "stream",
     "text": [
      "[[ 1  1  8  0  1  1  1]\n",
      " [44 44 22  0 44 44 44]]\n"
     ]
    }
   ],
   "source": [
    "d[:, 2] = [8, 22]\n",
    "print(d)"
   ]
  },
  {
   "cell_type": "markdown",
   "id": "7e708352-e16a-43ee-9ff5-ca0ff8a8dab0",
   "metadata": {},
   "source": [
    "#### 3 Dimensiones"
   ]
  },
  {
   "cell_type": "code",
   "execution_count": 30,
   "id": "8bd15e30-6ed9-4335-8307-91283c651317",
   "metadata": {},
   "outputs": [
    {
     "name": "stdout",
     "output_type": "stream",
     "text": [
      "[[[1 2]\n",
      "  [3 4]]\n",
      "\n",
      " [[5 6]\n",
      "  [7 8]]]\n"
     ]
    }
   ],
   "source": [
    "e = np.array([[[1,2],[3,4]],[[5,6],[7,8]]])\n",
    "print(e)"
   ]
  },
  {
   "cell_type": "markdown",
   "id": "5a34ae20-f061-4bff-ac1c-80ff0b6f70b5",
   "metadata": {},
   "source": [
    "#### Obtener y cambiar elementos [d, f, c]"
   ]
  },
  {
   "cell_type": "code",
   "execution_count": 31,
   "id": "89e822bd-88fc-4e1d-8146-004d7efa15ce",
   "metadata": {},
   "outputs": [
    {
     "data": {
      "text/plain": [
       "6"
      ]
     },
     "execution_count": 31,
     "metadata": {},
     "output_type": "execute_result"
    }
   ],
   "source": [
    "e[1, 0, 1]"
   ]
  },
  {
   "cell_type": "code",
   "execution_count": 32,
   "id": "195ae70b-ad03-40fa-bf51-3c02b56a7aa0",
   "metadata": {},
   "outputs": [
    {
     "data": {
      "text/plain": [
       "array([[1, 2],\n",
       "       [5, 6]])"
      ]
     },
     "execution_count": 32,
     "metadata": {},
     "output_type": "execute_result"
    }
   ],
   "source": [
    "e[:, 0, :]"
   ]
  },
  {
   "cell_type": "code",
   "execution_count": 33,
   "id": "df1a5134-175b-4981-a563-ac2807e27c48",
   "metadata": {},
   "outputs": [
    {
     "data": {
      "text/plain": [
       "array([[1, 3],\n",
       "       [5, 7]])"
      ]
     },
     "execution_count": 33,
     "metadata": {},
     "output_type": "execute_result"
    }
   ],
   "source": [
    "e[:, :, 0]"
   ]
  },
  {
   "cell_type": "code",
   "execution_count": 34,
   "id": "b4ed9a65-3564-4b54-aa8a-7fcfe117efca",
   "metadata": {},
   "outputs": [
    {
     "name": "stdout",
     "output_type": "stream",
     "text": [
      "[[[1 2]\n",
      "  [1 1]]\n",
      "\n",
      " [[5 6]\n",
      "  [9 9]]]\n"
     ]
    }
   ],
   "source": [
    "e[:, 1, :] = [[1, 1],[9, 9]]\n",
    "print(e)"
   ]
  },
  {
   "cell_type": "markdown",
   "id": "4484336a-7560-4056-98dd-d55ff7c54ad8",
   "metadata": {},
   "source": [
    "#### Tipos de Arrays"
   ]
  },
  {
   "cell_type": "code",
   "execution_count": 35,
   "id": "e70cabd5-adb0-48ce-86e5-d9e96590ea8b",
   "metadata": {},
   "outputs": [
    {
     "data": {
      "text/plain": [
       "array([0., 0., 0., 0.])"
      ]
     },
     "execution_count": 35,
     "metadata": {},
     "output_type": "execute_result"
    }
   ],
   "source": [
    "#Solo ceros\n",
    "np.zeros(4)"
   ]
  },
  {
   "cell_type": "code",
   "execution_count": 36,
   "id": "3a688d39-f44b-401d-9d88-bb8a3a7feb01",
   "metadata": {},
   "outputs": [
    {
     "data": {
      "text/plain": [
       "array([[0., 0., 0., 0.],\n",
       "       [0., 0., 0., 0.],\n",
       "       [0., 0., 0., 0.],\n",
       "       [0., 0., 0., 0.],\n",
       "       [0., 0., 0., 0.]])"
      ]
     },
     "execution_count": 36,
     "metadata": {},
     "output_type": "execute_result"
    }
   ],
   "source": [
    "np.zeros((5,4))"
   ]
  },
  {
   "cell_type": "code",
   "execution_count": 37,
   "id": "1291e7d7-5e68-4063-9ad5-97b23772f72a",
   "metadata": {},
   "outputs": [
    {
     "data": {
      "text/plain": [
       "array([[[[0., 0., 0., 0.],\n",
       "         [0., 0., 0., 0.],\n",
       "         [0., 0., 0., 0.],\n",
       "         [0., 0., 0., 0.]],\n",
       "\n",
       "        [[0., 0., 0., 0.],\n",
       "         [0., 0., 0., 0.],\n",
       "         [0., 0., 0., 0.],\n",
       "         [0., 0., 0., 0.]],\n",
       "\n",
       "        [[0., 0., 0., 0.],\n",
       "         [0., 0., 0., 0.],\n",
       "         [0., 0., 0., 0.],\n",
       "         [0., 0., 0., 0.]]],\n",
       "\n",
       "\n",
       "       [[[0., 0., 0., 0.],\n",
       "         [0., 0., 0., 0.],\n",
       "         [0., 0., 0., 0.],\n",
       "         [0., 0., 0., 0.]],\n",
       "\n",
       "        [[0., 0., 0., 0.],\n",
       "         [0., 0., 0., 0.],\n",
       "         [0., 0., 0., 0.],\n",
       "         [0., 0., 0., 0.]],\n",
       "\n",
       "        [[0., 0., 0., 0.],\n",
       "         [0., 0., 0., 0.],\n",
       "         [0., 0., 0., 0.],\n",
       "         [0., 0., 0., 0.]]]])"
      ]
     },
     "execution_count": 37,
     "metadata": {},
     "output_type": "execute_result"
    }
   ],
   "source": [
    "np.zeros((2,3,4,4))"
   ]
  },
  {
   "cell_type": "code",
   "execution_count": 38,
   "id": "5c73d1da-f82c-4cbf-a834-214b21a81912",
   "metadata": {},
   "outputs": [
    {
     "data": {
      "text/plain": [
       "array([[[1., 1.],\n",
       "        [1., 1.]],\n",
       "\n",
       "       [[1., 1.],\n",
       "        [1., 1.]]], dtype=float32)"
      ]
     },
     "execution_count": 38,
     "metadata": {},
     "output_type": "execute_result"
    }
   ],
   "source": [
    "#Solo unos\n",
    "np.ones((2, 2, 2), dtype='float32')"
   ]
  },
  {
   "cell_type": "code",
   "execution_count": 39,
   "id": "575ce27c-c3b7-4ec3-afee-5b78fbeca0a7",
   "metadata": {},
   "outputs": [
    {
     "data": {
      "text/plain": [
       "array([[99, 99, 99],\n",
       "       [99, 99, 99],\n",
       "       [99, 99, 99]])"
      ]
     },
     "execution_count": 39,
     "metadata": {},
     "output_type": "execute_result"
    }
   ],
   "source": [
    "#Cualquier número\n",
    "np.full((3,3), 99)"
   ]
  },
  {
   "cell_type": "code",
   "execution_count": 40,
   "id": "934da21c-8a2d-46f3-bb9a-e8eb7b3f259b",
   "metadata": {},
   "outputs": [
    {
     "data": {
      "text/plain": [
       "array([10, 10, 10, 10])"
      ]
     },
     "execution_count": 40,
     "metadata": {},
     "output_type": "execute_result"
    }
   ],
   "source": [
    "#Cambia los valores de una matriz\n",
    "np.full_like(a, 10)"
   ]
  },
  {
   "cell_type": "code",
   "execution_count": 41,
   "id": "6fa56440-2a71-452e-b132-9af242a56f64",
   "metadata": {},
   "outputs": [
    {
     "data": {
      "text/plain": [
       "array([[0.39976399, 0.51577735, 0.19142024],\n",
       "       [0.66998347, 0.40824198, 0.89638536],\n",
       "       [0.55567927, 0.81589502, 0.94483562],\n",
       "       [0.63726793, 0.0787668 , 0.14802987]])"
      ]
     },
     "execution_count": 41,
     "metadata": {},
     "output_type": "execute_result"
    }
   ],
   "source": [
    "#Matriz con valores decimales aleatorios\n",
    "np.random.rand(4, 3)"
   ]
  },
  {
   "cell_type": "code",
   "execution_count": 42,
   "id": "675dc004-40fa-4b3e-a3f8-c86527f2f676",
   "metadata": {},
   "outputs": [
    {
     "data": {
      "text/plain": [
       "array([[[0.44937705, 0.54351272],\n",
       "        [0.51080341, 0.15225928]],\n",
       "\n",
       "       [[0.15199441, 0.98626894],\n",
       "        [0.11217539, 0.10322801]]])"
      ]
     },
     "execution_count": 42,
     "metadata": {},
     "output_type": "execute_result"
    }
   ],
   "source": [
    "np.random.random_sample(e.shape)"
   ]
  },
  {
   "cell_type": "code",
   "execution_count": 43,
   "id": "d4e8d210-5c5b-4512-afd1-6f5158514867",
   "metadata": {},
   "outputs": [
    {
     "data": {
      "text/plain": [
       "array([[1, 4, 0, 0],\n",
       "       [0, 3, 2, 2],\n",
       "       [0, 2, 0, 0],\n",
       "       [1, 0, 4, 3]])"
      ]
     },
     "execution_count": 43,
     "metadata": {},
     "output_type": "execute_result"
    }
   ],
   "source": [
    "#Crea una matriz con valores entre cero y cinco\n",
    "np.random.randint(5, size=(4,4))"
   ]
  },
  {
   "cell_type": "code",
   "execution_count": 44,
   "id": "c1b0cfcb-0c46-459c-b3b4-39410cdc7c71",
   "metadata": {},
   "outputs": [
    {
     "data": {
      "text/plain": [
       "array([[-3, -3,  0,  7, -8],\n",
       "       [ 6,  0, -9,  6,  7],\n",
       "       [ 7,  3,  2, -6, -2],\n",
       "       [-1, -1,  1, -3,  5],\n",
       "       [ 4,  9, -9, -5,  4]])"
      ]
     },
     "execution_count": 44,
     "metadata": {},
     "output_type": "execute_result"
    }
   ],
   "source": [
    "np.random.randint(-10, 10, size=(5,5))"
   ]
  },
  {
   "cell_type": "code",
   "execution_count": 45,
   "id": "e2c3cb0a-aded-4c1b-85df-fc02c96f4471",
   "metadata": {},
   "outputs": [
    {
     "data": {
      "text/plain": [
       "array([[1., 0., 0., 0.],\n",
       "       [0., 1., 0., 0.],\n",
       "       [0., 0., 1., 0.],\n",
       "       [0., 0., 0., 1.]])"
      ]
     },
     "execution_count": 45,
     "metadata": {},
     "output_type": "execute_result"
    }
   ],
   "source": [
    "#Matriz identidad\n",
    "np.identity(4)"
   ]
  },
  {
   "cell_type": "code",
   "execution_count": 46,
   "id": "a7079b6f-59cf-47e0-9e8e-963a24b9b52d",
   "metadata": {},
   "outputs": [
    {
     "name": "stdout",
     "output_type": "stream",
     "text": [
      "[1 1 1 2 2 2 3 3 3]\n"
     ]
    }
   ],
   "source": [
    "a0 = np.array([1,2,3])\n",
    "a1 = np.repeat(a0, 3)\n",
    "print(a1)"
   ]
  },
  {
   "cell_type": "code",
   "execution_count": 47,
   "id": "49de755a-d9ce-4e42-9d26-17f11ff6bac2",
   "metadata": {},
   "outputs": [
    {
     "name": "stdout",
     "output_type": "stream",
     "text": [
      "[[1 2 3]\n",
      " [1 2 3]\n",
      " [1 2 3]]\n"
     ]
    }
   ],
   "source": [
    "a0 = np.array([[1,2,3]])\n",
    "a1 = np.repeat(a0, 3, axis=0)\n",
    "print(a1)"
   ]
  },
  {
   "cell_type": "markdown",
   "id": "498eb0a3-a0c7-4041-bd42-d6a16f280096",
   "metadata": {},
   "source": [
    "#### Operaciones avanzadas sobre una matriz"
   ]
  },
  {
   "cell_type": "code",
   "execution_count": 48,
   "id": "8dd9465d-45ec-4cbf-9f24-642285a5c532",
   "metadata": {},
   "outputs": [
    {
     "name": "stdout",
     "output_type": "stream",
     "text": [
      "[[1. 1. 1. 1. 1.]\n",
      " [1. 1. 1. 1. 1.]\n",
      " [1. 1. 1. 1. 1.]\n",
      " [1. 1. 1. 1. 1.]\n",
      " [1. 1. 1. 1. 1.]]\n"
     ]
    }
   ],
   "source": [
    "matriz1 = np.ones((5,5))\n",
    "print(matriz1)"
   ]
  },
  {
   "cell_type": "code",
   "execution_count": 49,
   "id": "f68c1c78-36c5-4284-b310-b52031de4e62",
   "metadata": {},
   "outputs": [
    {
     "name": "stdout",
     "output_type": "stream",
     "text": [
      "[[0. 0. 0.]\n",
      " [0. 8. 0.]\n",
      " [0. 0. 0.]]\n"
     ]
    }
   ],
   "source": [
    "matriz2 = np.zeros((3,3))\n",
    "matriz2[1,1] = 8\n",
    "print(matriz2)"
   ]
  },
  {
   "cell_type": "code",
   "execution_count": 50,
   "id": "a53c168e-6e21-4c23-afe0-aff681087af3",
   "metadata": {},
   "outputs": [
    {
     "name": "stdout",
     "output_type": "stream",
     "text": [
      "[[1. 1. 1. 1. 1.]\n",
      " [1. 0. 0. 0. 1.]\n",
      " [1. 0. 8. 0. 1.]\n",
      " [1. 0. 0. 0. 1.]\n",
      " [1. 1. 1. 1. 1.]]\n"
     ]
    }
   ],
   "source": [
    "matriz1[1:4,1:4] = matriz2   #Mueve la matriz 1 a la posición que esta entre la fila y columna 1 y fila y columna 3\n",
    "print(matriz1)"
   ]
  },
  {
   "cell_type": "markdown",
   "id": "08d207e5-0819-4cb2-9208-e295e41dd37e",
   "metadata": {},
   "source": [
    "#### Copiar"
   ]
  },
  {
   "cell_type": "code",
   "execution_count": 51,
   "id": "86179935-f4a5-4a3f-a672-dc79d07f628b",
   "metadata": {},
   "outputs": [
    {
     "data": {
      "text/plain": [
       "array([1, 2, 3])"
      ]
     },
     "execution_count": 51,
     "metadata": {},
     "output_type": "execute_result"
    }
   ],
   "source": [
    "f = np.array([1,2,3])\n",
    "g = np.array([0,0,0])\n",
    "g = f\n",
    "g"
   ]
  },
  {
   "cell_type": "code",
   "execution_count": 52,
   "id": "820820c1-0d20-43ae-b4e9-c4d48db4d3fc",
   "metadata": {},
   "outputs": [
    {
     "name": "stdout",
     "output_type": "stream",
     "text": [
      "[100   2   3]\n"
     ]
    }
   ],
   "source": [
    "#Se cambia el valor en ambos arrays al usar únicamente el signo '=' para realizar copias\n",
    "g[0] = 100\n",
    "print(f)"
   ]
  },
  {
   "cell_type": "code",
   "execution_count": 53,
   "id": "109e395d-b578-4edf-a352-50a2c187c600",
   "metadata": {},
   "outputs": [
    {
     "name": "stdout",
     "output_type": "stream",
     "text": [
      "[1 2 3]\n"
     ]
    }
   ],
   "source": [
    "#Se crea una copia independiente\n",
    "f = np.array([1,2,3])\n",
    "g = np.array([0,0,0])\n",
    "g = f.copy()\n",
    "g\n",
    "g[0] = 100\n",
    "print(f)"
   ]
  },
  {
   "cell_type": "markdown",
   "id": "00643578-95d4-4125-87ed-76403d62401b",
   "metadata": {},
   "source": [
    "#### Operaciones Matemáticas"
   ]
  },
  {
   "cell_type": "code",
   "execution_count": 54,
   "id": "093e9ecb-4f50-46a1-8177-d76cb1ce39cd",
   "metadata": {},
   "outputs": [
    {
     "name": "stdout",
     "output_type": "stream",
     "text": [
      "[1 2 3 4]\n"
     ]
    }
   ],
   "source": [
    "w = np.array([1,2,3,4])\n",
    "print(w)"
   ]
  },
  {
   "cell_type": "code",
   "execution_count": 55,
   "id": "6f73e01c-be2f-45d0-a8fa-425d8f2eb995",
   "metadata": {},
   "outputs": [
    {
     "data": {
      "text/plain": [
       "array([6, 7, 8, 9])"
      ]
     },
     "execution_count": 55,
     "metadata": {},
     "output_type": "execute_result"
    }
   ],
   "source": [
    "#Suma\n",
    "w + 5"
   ]
  },
  {
   "cell_type": "code",
   "execution_count": 56,
   "id": "4b376418-8054-431f-ae04-ffcb330ad1b3",
   "metadata": {},
   "outputs": [
    {
     "data": {
      "text/plain": [
       "array([-1,  0,  1,  2])"
      ]
     },
     "execution_count": 56,
     "metadata": {},
     "output_type": "execute_result"
    }
   ],
   "source": [
    "#Resta\n",
    "w - 2"
   ]
  },
  {
   "cell_type": "code",
   "execution_count": 57,
   "id": "7b6df141-06c0-43b3-8849-270917c16d26",
   "metadata": {},
   "outputs": [
    {
     "data": {
      "text/plain": [
       "array([ 3,  6,  9, 12])"
      ]
     },
     "execution_count": 57,
     "metadata": {},
     "output_type": "execute_result"
    }
   ],
   "source": [
    "#Multiplicación\n",
    "w * 3"
   ]
  },
  {
   "cell_type": "code",
   "execution_count": 58,
   "id": "b5a90641-3fad-4e8e-aeea-d52772867ac8",
   "metadata": {},
   "outputs": [
    {
     "data": {
      "text/plain": [
       "array([0.5, 1. , 1.5, 2. ])"
      ]
     },
     "execution_count": 58,
     "metadata": {},
     "output_type": "execute_result"
    }
   ],
   "source": [
    "#División\n",
    "w / 2"
   ]
  },
  {
   "cell_type": "code",
   "execution_count": 59,
   "id": "62ee0662-bded-43c4-968b-3e8f61235f47",
   "metadata": {},
   "outputs": [
    {
     "data": {
      "text/plain": [
       "array([2, 2, 4, 4])"
      ]
     },
     "execution_count": 59,
     "metadata": {},
     "output_type": "execute_result"
    }
   ],
   "source": [
    "#Suma matricial\n",
    "x = np.array([1,0,1,0])\n",
    "w + x"
   ]
  },
  {
   "cell_type": "code",
   "execution_count": 60,
   "id": "33466720-7fa5-4b02-93a1-eae735ae9a13",
   "metadata": {},
   "outputs": [
    {
     "data": {
      "text/plain": [
       "array([ 1,  8, 27, 64])"
      ]
     },
     "execution_count": 60,
     "metadata": {},
     "output_type": "execute_result"
    }
   ],
   "source": [
    "#Potencia\n",
    "w ** 3"
   ]
  },
  {
   "cell_type": "code",
   "execution_count": 61,
   "id": "aaccd26f-6e3b-4d63-9a39-d14100afcd61",
   "metadata": {},
   "outputs": [
    {
     "data": {
      "text/plain": [
       "array([ 0.84147098,  0.90929743,  0.14112001, -0.7568025 ])"
      ]
     },
     "execution_count": 61,
     "metadata": {},
     "output_type": "execute_result"
    }
   ],
   "source": [
    "#Seno\n",
    "np.sin(w)"
   ]
  },
  {
   "cell_type": "code",
   "execution_count": 62,
   "id": "f29dbdd6-ed7c-46fa-82c2-bf97690a0bcf",
   "metadata": {},
   "outputs": [
    {
     "data": {
      "text/plain": [
       "array([ 0.54030231, -0.41614684, -0.9899925 , -0.65364362])"
      ]
     },
     "execution_count": 62,
     "metadata": {},
     "output_type": "execute_result"
    }
   ],
   "source": [
    "#Coseno\n",
    "np.cos(w)"
   ]
  },
  {
   "cell_type": "code",
   "execution_count": 63,
   "id": "04d99293-a9f9-46f1-888d-066b0df7a5a3",
   "metadata": {},
   "outputs": [
    {
     "data": {
      "text/plain": [
       "array([ 2.71828183,  7.3890561 , 20.08553692, 54.59815003])"
      ]
     },
     "execution_count": 63,
     "metadata": {},
     "output_type": "execute_result"
    }
   ],
   "source": [
    "#Exponencial\n",
    "np.exp(w)"
   ]
  },
  {
   "cell_type": "code",
   "execution_count": 64,
   "id": "f09decae-1d8b-4910-bb98-f7591193521f",
   "metadata": {},
   "outputs": [
    {
     "data": {
      "text/plain": [
       "array([0.        , 0.69314718, 1.09861229, 1.38629436])"
      ]
     },
     "execution_count": 64,
     "metadata": {},
     "output_type": "execute_result"
    }
   ],
   "source": [
    "#Logaritmo\n",
    "np.log(w)"
   ]
  },
  {
   "cell_type": "code",
   "execution_count": 65,
   "id": "f4b9c595-1c73-451f-aeb0-d41e1487d0d6",
   "metadata": {},
   "outputs": [
    {
     "data": {
      "text/plain": [
       "array([1.        , 1.41421356, 1.73205081, 2.        ])"
      ]
     },
     "execution_count": 65,
     "metadata": {},
     "output_type": "execute_result"
    }
   ],
   "source": [
    "#Raíz\n",
    "np.sqrt(w)"
   ]
  },
  {
   "cell_type": "code",
   "execution_count": 66,
   "id": "9b5f83dd-84a7-4a25-a6dd-90f2b9659a71",
   "metadata": {},
   "outputs": [
    {
     "data": {
      "text/plain": [
       "array([1, 2, 3, 4])"
      ]
     },
     "execution_count": 66,
     "metadata": {},
     "output_type": "execute_result"
    }
   ],
   "source": [
    "#Valor absoluto\n",
    "np.abs(w)"
   ]
  },
  {
   "cell_type": "code",
   "execution_count": 67,
   "id": "5c2ca2ba-74bc-42e6-967a-aba9ee6a58af",
   "metadata": {},
   "outputs": [
    {
     "data": {
      "text/plain": [
       "array([0.78539816, 1.10714872, 1.24904577, 1.32581766])"
      ]
     },
     "execution_count": 67,
     "metadata": {},
     "output_type": "execute_result"
    }
   ],
   "source": [
    "#Arcotangente\n",
    "np.arctan(w)"
   ]
  },
  {
   "cell_type": "markdown",
   "id": "b4ffc185-a1cf-4397-8900-508b05515878",
   "metadata": {},
   "source": [
    "#### Algebra lineal"
   ]
  },
  {
   "cell_type": "code",
   "execution_count": 68,
   "id": "62ea217b-a5e5-4095-aed1-9a26c5ab52f4",
   "metadata": {},
   "outputs": [
    {
     "name": "stdout",
     "output_type": "stream",
     "text": [
      "[[1. 1. 1.]\n",
      " [1. 1. 1.]]\n",
      "[[2 2]\n",
      " [2 2]\n",
      " [2 2]]\n"
     ]
    }
   ],
   "source": [
    "x = np.ones((2,3))\n",
    "print(x)\n",
    "\n",
    "y = np.full((3,2),2)\n",
    "print(y)"
   ]
  },
  {
   "cell_type": "code",
   "execution_count": 69,
   "id": "f1695af1-8488-447a-94b6-55dc282c2799",
   "metadata": {},
   "outputs": [
    {
     "data": {
      "text/plain": [
       "array([[6., 6.],\n",
       "       [6., 6.]])"
      ]
     },
     "execution_count": 69,
     "metadata": {},
     "output_type": "execute_result"
    }
   ],
   "source": [
    "#Multiplicación matricial\n",
    "np.matmul(x,y)"
   ]
  },
  {
   "cell_type": "code",
   "execution_count": 70,
   "id": "c08d53fd-ebf5-4676-b15c-97c0cd374e36",
   "metadata": {},
   "outputs": [
    {
     "data": {
      "text/plain": [
       "1.0"
      ]
     },
     "execution_count": 70,
     "metadata": {},
     "output_type": "execute_result"
    }
   ],
   "source": [
    "#Muestra el determinante de una matriz identidad\n",
    "z = np.identity(3)\n",
    "np.linalg.det(z)"
   ]
  },
  {
   "cell_type": "code",
   "execution_count": 71,
   "id": "b2202711-b600-4d44-a6cd-d643a69e1888",
   "metadata": {},
   "outputs": [
    {
     "name": "stdout",
     "output_type": "stream",
     "text": [
      "[[1 2 3]\n",
      " [4 5 6]\n",
      " [7 8 9]]\n",
      "Traza de la matriz: 15\n"
     ]
    }
   ],
   "source": [
    "z = np.array([[1, 2, 3],[4, 5, 6],[7, 8, 9]])\n",
    "print(z)\n",
    "# Calcular la traza de la matriz\n",
    "traza = np.trace(z)\n",
    "print(\"Traza de la matriz:\", traza)"
   ]
  },
  {
   "cell_type": "code",
   "execution_count": 72,
   "id": "f505abde-2710-485c-8599-c191bf387c4b",
   "metadata": {},
   "outputs": [
    {
     "name": "stdout",
     "output_type": "stream",
     "text": [
      "Matriz U (izquierda):\n",
      "[[-0.21483724  0.88723069  0.40824829]\n",
      " [-0.52058739  0.24964395 -0.81649658]\n",
      " [-0.82633754 -0.38794278  0.40824829]]\n",
      "Valores singulares (diagonal):\n",
      "[1.68481034e+01 1.06836951e+00 4.41842475e-16]\n",
      "Matriz V^T (derecha):\n",
      "[[-0.47967118 -0.57236779 -0.66506441]\n",
      " [-0.77669099 -0.07568647  0.62531805]\n",
      " [-0.40824829  0.81649658 -0.40824829]]\n"
     ]
    }
   ],
   "source": [
    "# Calcular la descomposición de valores singulares (Singular Value Decomposition - SVD)\n",
    "u, s, vh = np.linalg.svd(z)\n",
    "print(\"Matriz U (izquierda):\")\n",
    "print(u)\n",
    "print(\"Valores singulares (diagonal):\")\n",
    "print(s)\n",
    "print(\"Matriz V^T (derecha):\")\n",
    "print(vh)"
   ]
  },
  {
   "cell_type": "code",
   "execution_count": 73,
   "id": "7de8a583-2925-4b7c-9eed-f46588ee4b21",
   "metadata": {},
   "outputs": [
    {
     "name": "stdout",
     "output_type": "stream",
     "text": [
      "Eigenvalores:\n",
      "[ 1.61168440e+01 -1.11684397e+00 -1.30367773e-15]\n",
      "Eigenvectores:\n",
      "[[-0.23197069 -0.78583024  0.40824829]\n",
      " [-0.52532209 -0.08675134 -0.81649658]\n",
      " [-0.8186735   0.61232756  0.40824829]]\n"
     ]
    }
   ],
   "source": [
    "# Calcular los eigenvalores y eigenvectores de la matriz\n",
    "eigenvalores, eigenvectores = np.linalg.eig(z)\n",
    "print(\"Eigenvalores:\")\n",
    "print(eigenvalores)\n",
    "print(\"Eigenvectores:\")\n",
    "print(eigenvectores)"
   ]
  },
  {
   "cell_type": "code",
   "execution_count": 74,
   "id": "87e00078-4a9a-4146-8f00-40e4ffb310f1",
   "metadata": {},
   "outputs": [
    {
     "name": "stdout",
     "output_type": "stream",
     "text": [
      "Norma de Frobenius de la matriz: 16.881943016134134\n"
     ]
    }
   ],
   "source": [
    "# Calcular la norma de Frobenius de la matriz\n",
    "norma = np.linalg.norm(z, ord='fro')\n",
    "print(\"Norma de Frobenius de la matriz:\", norma)"
   ]
  },
  {
   "cell_type": "code",
   "execution_count": 75,
   "id": "4eb3e953-23f2-4105-bb6d-520172ba6534",
   "metadata": {},
   "outputs": [
    {
     "name": "stdout",
     "output_type": "stream",
     "text": [
      "Inversa de la matriz:\n",
      "[[1. 0. 0.]\n",
      " [0. 1. 0.]\n",
      " [0. 0. 1.]]\n"
     ]
    }
   ],
   "source": [
    "# Calcular la inversa de la matriz\n",
    "z = np.identity(3)\n",
    "inversa = np.linalg.inv(z)\n",
    "print(\"Inversa de la matriz:\")\n",
    "print(inversa)"
   ]
  },
  {
   "cell_type": "markdown",
   "id": "0b118a09-70e8-414c-9a7c-2c6d09a3d7f8",
   "metadata": {},
   "source": [
    "#### Estadística"
   ]
  },
  {
   "cell_type": "code",
   "execution_count": 76,
   "id": "745e82f8-64cc-4d45-a7f5-669940804ae8",
   "metadata": {},
   "outputs": [
    {
     "data": {
      "text/plain": [
       "array([[1, 2, 3],\n",
       "       [4, 5, 6]])"
      ]
     },
     "execution_count": 76,
     "metadata": {},
     "output_type": "execute_result"
    }
   ],
   "source": [
    "k = np.array([[1,2,3],[4,5,6]])\n",
    "k"
   ]
  },
  {
   "cell_type": "code",
   "execution_count": 77,
   "id": "05c440b2-356f-4f11-9ed1-c790056e7ad2",
   "metadata": {},
   "outputs": [
    {
     "data": {
      "text/plain": [
       "1"
      ]
     },
     "execution_count": 77,
     "metadata": {},
     "output_type": "execute_result"
    }
   ],
   "source": [
    "np.min(k)"
   ]
  },
  {
   "cell_type": "code",
   "execution_count": 78,
   "id": "0d23531a-6c2e-496a-a44c-f84d55e9a0bc",
   "metadata": {},
   "outputs": [
    {
     "data": {
      "text/plain": [
       "6"
      ]
     },
     "execution_count": 78,
     "metadata": {},
     "output_type": "execute_result"
    }
   ],
   "source": [
    "np.max(k)"
   ]
  },
  {
   "cell_type": "code",
   "execution_count": 79,
   "id": "012f4849-ca7f-4c88-aaad-106d5873db93",
   "metadata": {},
   "outputs": [
    {
     "data": {
      "text/plain": [
       "21"
      ]
     },
     "execution_count": 79,
     "metadata": {},
     "output_type": "execute_result"
    }
   ],
   "source": [
    "np.sum(k)"
   ]
  },
  {
   "cell_type": "markdown",
   "id": "0edfca10-e779-4a71-bea7-af81479d69b9",
   "metadata": {},
   "source": [
    "#### Redimensionar Arrays"
   ]
  },
  {
   "cell_type": "code",
   "execution_count": 80,
   "id": "d3ea0445-69a5-4f0f-8c75-0e3be3ba8f72",
   "metadata": {},
   "outputs": [
    {
     "name": "stdout",
     "output_type": "stream",
     "text": [
      "[[1 2 3 4]\n",
      " [5 6 7 8]]\n",
      "Su dimensión es: (2, 4)\n"
     ]
    }
   ],
   "source": [
    "l = np.array([[1,2,3,4],[5,6,7,8]])\n",
    "print(l)\n",
    "print(\"Su dimensión es:\", l.shape)"
   ]
  },
  {
   "cell_type": "code",
   "execution_count": 81,
   "id": "b6cbd627-ad86-4c88-9eb4-ed3cfecc305d",
   "metadata": {},
   "outputs": [
    {
     "name": "stdout",
     "output_type": "stream",
     "text": [
      "[[1]\n",
      " [2]\n",
      " [3]\n",
      " [4]\n",
      " [5]\n",
      " [6]\n",
      " [7]\n",
      " [8]]\n"
     ]
    }
   ],
   "source": [
    "m = l.reshape((8,1))\n",
    "print(m)"
   ]
  },
  {
   "cell_type": "code",
   "execution_count": 82,
   "id": "f6112b35-9c96-430f-ad59-1d2f50c5b8fd",
   "metadata": {},
   "outputs": [
    {
     "name": "stdout",
     "output_type": "stream",
     "text": [
      "[[1 2]\n",
      " [3 4]\n",
      " [5 6]\n",
      " [7 8]]\n"
     ]
    }
   ],
   "source": [
    "m = l.reshape((4,2))\n",
    "print(m)"
   ]
  },
  {
   "cell_type": "code",
   "execution_count": 83,
   "id": "35e700bf-4782-414f-a450-74a254618a4e",
   "metadata": {},
   "outputs": [
    {
     "name": "stdout",
     "output_type": "stream",
     "text": [
      "[[[1 2]\n",
      "  [3 4]]\n",
      "\n",
      " [[5 6]\n",
      "  [7 8]]]\n"
     ]
    }
   ],
   "source": [
    "m = l.reshape((2,2,2))\n",
    "print(m)"
   ]
  },
  {
   "cell_type": "code",
   "execution_count": 84,
   "id": "c09bb3bb-7d30-412f-b7ee-23ddee5d53ee",
   "metadata": {},
   "outputs": [
    {
     "data": {
      "text/plain": [
       "array([[1, 2, 3, 4],\n",
       "       [5, 6, 7, 8]])"
      ]
     },
     "execution_count": 84,
     "metadata": {},
     "output_type": "execute_result"
    }
   ],
   "source": [
    "#Apilar vectores vecticalmente\n",
    "v1 = np.array([1,2,3,4])\n",
    "v2 = np.array([5,6,7,8])\n",
    "np .vstack([v1,v2])"
   ]
  },
  {
   "cell_type": "code",
   "execution_count": 85,
   "id": "c452c2c7-5f98-4e11-8068-5f2e3081d62d",
   "metadata": {},
   "outputs": [
    {
     "data": {
      "text/plain": [
       "array([[1, 2, 3, 4],\n",
       "       [5, 6, 7, 8],\n",
       "       [1, 2, 3, 4],\n",
       "       [5, 6, 7, 8]])"
      ]
     },
     "execution_count": 85,
     "metadata": {},
     "output_type": "execute_result"
    }
   ],
   "source": [
    "np .vstack([v1,v2,v1,v2])"
   ]
  },
  {
   "cell_type": "code",
   "execution_count": 86,
   "id": "1292d7cf-4784-4537-b037-f7dfebbc0627",
   "metadata": {},
   "outputs": [
    {
     "data": {
      "text/plain": [
       "array([[1., 1., 1., 1., 0., 0., 0., 0., 0., 0., 0., 0.],\n",
       "       [1., 1., 1., 1., 0., 0., 0., 0., 0., 0., 0., 0.]])"
      ]
     },
     "execution_count": 86,
     "metadata": {},
     "output_type": "execute_result"
    }
   ],
   "source": [
    "#Apilar vectores horizontalmente\n",
    "h1 = np.ones((2,4))\n",
    "h2 = np.zeros((2,8))\n",
    "np.hstack((h1,h2))"
   ]
  },
  {
   "cell_type": "code",
   "execution_count": 87,
   "id": "c1b85c8b-0162-4332-935b-6ff5a562c7bd",
   "metadata": {},
   "outputs": [
    {
     "data": {
      "text/plain": [
       "array([[1., 1., 1., 1., 0., 0., 0., 0., 0., 0., 0., 0., 1., 1., 1., 1.],\n",
       "       [1., 1., 1., 1., 0., 0., 0., 0., 0., 0., 0., 0., 1., 1., 1., 1.]])"
      ]
     },
     "execution_count": 87,
     "metadata": {},
     "output_type": "execute_result"
    }
   ],
   "source": [
    "np.hstack((h1,h2,h1))"
   ]
  },
  {
   "cell_type": "markdown",
   "id": "ad4342d3-e9a1-4d13-8c77-f5e2710b3a40",
   "metadata": {},
   "source": [
    "#### Funciones extra"
   ]
  },
  {
   "cell_type": "code",
   "execution_count": 88,
   "id": "25da82c7-6536-460a-af6f-78b785c50994",
   "metadata": {},
   "outputs": [
    {
     "name": "stdout",
     "output_type": "stream",
     "text": [
      "[[ 0.  1.  2.  3.  4.  5.  6.  7.  8.  9.]\n",
      " [10. 11. 12. 13. 14. 15. 16. 17. 18. 19.]\n",
      " [20. 21. 22. 23. 24. 25. 26. 27. 28. 29.]]\n"
     ]
    }
   ],
   "source": [
    "#Importa una matriz desde un archivo .txt\n",
    "matriz3 = np.genfromtxt('test.txt', delimiter=',')\n",
    "print(matriz3)"
   ]
  },
  {
   "cell_type": "code",
   "execution_count": 89,
   "id": "f321ee3f-293d-4c47-93f8-5465e9e723e8",
   "metadata": {},
   "outputs": [
    {
     "name": "stdout",
     "output_type": "stream",
     "text": [
      "[[0.23539243 0.71076504 0.39085441 0.05514585 0.69808883 0.33210425\n",
      "  0.36284061 0.15857717 0.05796109 0.83111992 0.77399438 0.94271055]\n",
      " [0.7590061  0.32769907 0.09366086 0.93034119 0.19567799 0.22261681\n",
      "  0.30226468 0.18332506 0.70870156 0.54042581 0.2770182  0.23119814]\n",
      " [0.62589552 0.64257122 0.67061184 0.34430922 0.31451773 0.89881409\n",
      "  0.74293399 0.96798703 0.82069408 0.97390817 0.91115251 0.01293012]\n",
      " [0.1982794  0.93374315 0.34659432 0.36854902 0.67388766 0.34227892\n",
      "  0.57024759 0.22232402 0.48332564 0.52681836 0.82111973 0.42140554]\n",
      " [0.05688097 0.36829504 0.26259914 0.49192868 0.24962374 0.92715503\n",
      "  0.97509359 0.02288412 0.13206944 0.17546118 0.77242486 0.35178413]]\n"
     ]
    }
   ],
   "source": [
    "#Crea un archivo con números aleatorios\n",
    "matriz4 = np.random.rand(5, 12)\n",
    "np.savetxt('numeros_aleatorios.csv', matriz4, delimiter=',', fmt='%.6f')\n",
    "print(matriz4)"
   ]
  },
  {
   "cell_type": "markdown",
   "id": "fc0173ee-bd15-4595-814e-0160fc6e3e1e",
   "metadata": {},
   "source": [
    "#### Indexado Avanzado"
   ]
  },
  {
   "cell_type": "code",
   "execution_count": 90,
   "id": "a5278e0f-df91-4d67-b750-10e177947974",
   "metadata": {},
   "outputs": [
    {
     "name": "stdout",
     "output_type": "stream",
     "text": [
      "[[ 0  1  2  3  4  5  6  7  8  9]\n",
      " [10 11 12 13 14 15 16 17 18 19]\n",
      " [20 21 22 23 24 25 26 27 28 29]]\n"
     ]
    }
   ],
   "source": [
    "matriz5 = matriz3.astype('int32')\n",
    "print(matriz5)"
   ]
  },
  {
   "cell_type": "code",
   "execution_count": 91,
   "id": "8530acf4-0b32-46f4-af64-8abb25fdf3f5",
   "metadata": {},
   "outputs": [
    {
     "data": {
      "text/plain": [
       "array([[False, False, False, False, False, False, False, False, False,\n",
       "        False],\n",
       "       [False, False, False, False, False, False,  True,  True,  True,\n",
       "         True],\n",
       "       [ True,  True,  True,  True,  True,  True,  True,  True,  True,\n",
       "         True]])"
      ]
     },
     "execution_count": 91,
     "metadata": {},
     "output_type": "execute_result"
    }
   ],
   "source": [
    "matriz5 > 15"
   ]
  },
  {
   "cell_type": "code",
   "execution_count": 92,
   "id": "2c40aeef-314e-42d8-bca0-7ff4a9f98eb6",
   "metadata": {},
   "outputs": [
    {
     "data": {
      "text/plain": [
       "array([0, 1, 2, 3, 4, 5, 6, 7], dtype=int32)"
      ]
     },
     "execution_count": 92,
     "metadata": {},
     "output_type": "execute_result"
    }
   ],
   "source": [
    "matriz5[matriz5 < 8]"
   ]
  },
  {
   "cell_type": "code",
   "execution_count": 93,
   "id": "83447420-c179-49e3-8dc7-95e8c7f8fa42",
   "metadata": {},
   "outputs": [
    {
     "data": {
      "text/plain": [
       "array([1, 3, 6, 9])"
      ]
     },
     "execution_count": 93,
     "metadata": {},
     "output_type": "execute_result"
    }
   ],
   "source": [
    "#Seleccionar por posición\n",
    "matriz6 = np.array([1,2,3,4,5,6,7,8,9])\n",
    "matriz6[[0,2,5,8]]"
   ]
  },
  {
   "cell_type": "code",
   "execution_count": 94,
   "id": "7c68a568-7d79-41fd-b7ad-eb639549c410",
   "metadata": {},
   "outputs": [
    {
     "data": {
      "text/plain": [
       "True"
      ]
     },
     "execution_count": 94,
     "metadata": {},
     "output_type": "execute_result"
    }
   ],
   "source": [
    "np.any(matriz5 > 20)   # Devuelve un valor booleano verdadero en caso de haber algún valor mayor a 20"
   ]
  },
  {
   "cell_type": "code",
   "execution_count": 95,
   "id": "f7ddc15b-30aa-49b9-a4d7-72ef60d0428c",
   "metadata": {},
   "outputs": [
    {
     "name": "stdout",
     "output_type": "stream",
     "text": [
      "[[ 0  1  2  3  4  5  6  7  8  9]\n",
      " [10 11 12 13 14 15 16 17 18 19]\n",
      " [20 21 22 23 24 25 26 27 28 29]]\n"
     ]
    },
    {
     "data": {
      "text/plain": [
       "array([False,  True,  True,  True,  True,  True,  True,  True,  True,\n",
       "        True])"
      ]
     },
     "execution_count": 95,
     "metadata": {},
     "output_type": "execute_result"
    }
   ],
   "source": [
    "#Muestra si en el eje 0 (columnas) existen valores mayores a 20\n",
    "print(matriz5)\n",
    "np.any(matriz5 > 20, axis=0)   # Muestra un verdadero en caso de que exista un valor mayor a 20, contando columna a columna"
   ]
  },
  {
   "cell_type": "code",
   "execution_count": 96,
   "id": "a2757659-ecde-4135-b31e-e84dca3baf91",
   "metadata": {},
   "outputs": [
    {
     "data": {
      "text/plain": [
       "array([False, False,  True])"
      ]
     },
     "execution_count": 96,
     "metadata": {},
     "output_type": "execute_result"
    }
   ],
   "source": [
    "#Muestra si en el eje 1 (filas) existen valores mayores a 20\n",
    "np.any(matriz5 > 20, axis=1)"
   ]
  },
  {
   "cell_type": "code",
   "execution_count": 97,
   "id": "a14905f2-c54f-4855-b114-5289067fd93c",
   "metadata": {},
   "outputs": [
    {
     "data": {
      "text/plain": [
       "array([False, False, False])"
      ]
     },
     "execution_count": 97,
     "metadata": {},
     "output_type": "execute_result"
    }
   ],
   "source": [
    "#Muestra si en el eje 1 todos los valores mayores a 20\n",
    "np.all(matriz5 > 20, axis=1)"
   ]
  },
  {
   "cell_type": "code",
   "execution_count": 98,
   "id": "afbd54aa-3ac0-4dd0-b567-9a3f1af06be7",
   "metadata": {},
   "outputs": [
    {
     "data": {
      "text/plain": [
       "array([[False, False, False, False, False, False, False, False, False,\n",
       "        False],\n",
       "       [False, False,  True,  True,  True,  True,  True,  True, False,\n",
       "        False],\n",
       "       [False, False, False, False, False, False, False, False, False,\n",
       "        False]])"
      ]
     },
     "execution_count": 98,
     "metadata": {},
     "output_type": "execute_result"
    }
   ],
   "source": [
    "#Muestra si existen valores mayores a 11 y menores a 18\n",
    "((matriz5 > 11) & (matriz5 < 18))"
   ]
  },
  {
   "cell_type": "code",
   "execution_count": 99,
   "id": "dc9b2425-487c-4919-874a-757c84b1d514",
   "metadata": {},
   "outputs": [
    {
     "data": {
      "text/plain": [
       "array([[ True,  True,  True,  True,  True,  True,  True,  True,  True,\n",
       "         True],\n",
       "       [ True,  True, False, False, False, False, False, False,  True,\n",
       "         True],\n",
       "       [ True,  True,  True,  True,  True,  True,  True,  True,  True,\n",
       "         True]])"
      ]
     },
     "execution_count": 99,
     "metadata": {},
     "output_type": "execute_result"
    }
   ],
   "source": [
    "#El proceso inverso\n",
    "(~((matriz5 > 11) & (matriz5 < 18)))"
   ]
  },
  {
   "cell_type": "markdown",
   "id": "7cad4186-486d-4df7-b27c-e843899b3b44",
   "metadata": {},
   "source": [
    "#### Ejercicio"
   ]
  },
  {
   "cell_type": "code",
   "execution_count": 100,
   "id": "d7d78cfa-d02e-42c4-bb1b-b4306debb4cd",
   "metadata": {},
   "outputs": [
    {
     "name": "stdout",
     "output_type": "stream",
     "text": [
      "[[ 1  2  3  4  5]\n",
      " [ 6  7  8  9 10]\n",
      " [11 12 13 14 15]\n",
      " [16 17 18 19 20]\n",
      " [21 22 23 24 25]]\n"
     ]
    }
   ],
   "source": [
    "matriz6 = np.array([[1,2,3,4,5],[6,7,8,9,10],[11,12,13,14,15],[16,17,18,19,20],[21,22,23,24,25]])\n",
    "print(matriz6)"
   ]
  },
  {
   "cell_type": "code",
   "execution_count": 101,
   "id": "7e74cf54-5805-4375-8b8c-644d024be3c9",
   "metadata": {},
   "outputs": [
    {
     "data": {
      "text/plain": [
       "array([[11, 12],\n",
       "       [16, 17]])"
      ]
     },
     "execution_count": 101,
     "metadata": {},
     "output_type": "execute_result"
    }
   ],
   "source": [
    "matriz6[2:4, 0:2]"
   ]
  },
  {
   "cell_type": "code",
   "execution_count": 102,
   "id": "417612dc-2d1d-4557-b853-3272b9a2b8d2",
   "metadata": {},
   "outputs": [
    {
     "data": {
      "text/plain": [
       "array([ 2,  8, 14, 20])"
      ]
     },
     "execution_count": 102,
     "metadata": {},
     "output_type": "execute_result"
    }
   ],
   "source": [
    "matriz6[[0,1,2,3],[1,2,3,4]]"
   ]
  },
  {
   "cell_type": "code",
   "execution_count": 103,
   "id": "0428a78c-1057-4aa5-9d9a-7b1a616587dd",
   "metadata": {},
   "outputs": [
    {
     "data": {
      "text/plain": [
       "array([[ 4,  5],\n",
       "       [19, 20],\n",
       "       [24, 25]])"
      ]
     },
     "execution_count": 103,
     "metadata": {},
     "output_type": "execute_result"
    }
   ],
   "source": [
    "matriz6[[0,3,4], 3:]"
   ]
  },
  {
   "cell_type": "code",
   "execution_count": null,
   "id": "a8de5d15-c5fb-41b8-a075-db700ee62b88",
   "metadata": {},
   "outputs": [],
   "source": []
  }
 ],
 "metadata": {
  "kernelspec": {
   "display_name": "Python 3 (ipykernel)",
   "language": "python",
   "name": "python3"
  },
  "language_info": {
   "codemirror_mode": {
    "name": "ipython",
    "version": 3
   },
   "file_extension": ".py",
   "mimetype": "text/x-python",
   "name": "python",
   "nbconvert_exporter": "python",
   "pygments_lexer": "ipython3",
   "version": "3.11.8"
  }
 },
 "nbformat": 4,
 "nbformat_minor": 5
}
